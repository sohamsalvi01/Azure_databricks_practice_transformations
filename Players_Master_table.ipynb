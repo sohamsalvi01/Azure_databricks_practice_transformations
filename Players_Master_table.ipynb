{
 "cells": [
  {
   "cell_type": "code",
   "execution_count": 0,
   "metadata": {
    "application/vnd.databricks.v1+cell": {
     "cellMetadata": {
      "byteLimit": 2048000,
      "implicitDf": true,
      "rowLimit": 10000
     },
     "inputWidgets": {},
     "nuid": "bb96670c-599e-4585-b628-a76a22e9a68c",
     "showTitle": false,
     "tableResultSettingsMap": {},
     "title": ""
    }
   },
   "outputs": [],
   "source": [
    "#connecting via Service Principle (using secret scope)\n",
    "spark.conf.set(\"fs.azure.account.auth.type.adlsg2datalake.dfs.core.windows.net\", \"OAuth\")\n",
    "spark.conf.set(\"fs.azure.account.oauth.provider.type.adlsg2datalake.dfs.core.windows.net\", \"org.apache.hadoop.fs.azurebfs.oauth2.ClientCredsTokenProvider\")\n",
    "spark.conf.set(\"fs.azure.account.oauth2.client.id.adlsg2datalake.dfs.core.windows.net\", \"37a372de-1804-4a80-b98f-54ba7ef17ef3\")\n",
    "spark.conf.set(\"fs.azure.account.oauth2.client.secret.adlsg2datalake.dfs.core.windows.net\", dbutils.secrets.get(scope=\"databricks_secret_scope_soham\", key=\"secret-adlsg2-service-principle-value\"))\n",
    "spark.conf.set(\"fs.azure.account.oauth2.client.endpoint.adlsg2datalake.dfs.core.windows.net\", \"https://login.microsoftonline.com/9adebd2f-da4d-4f91-9e68-91d049a77ef2/oauth2/token\")"
   ]
  },
  {
   "cell_type": "code",
   "execution_count": 0,
   "metadata": {
    "application/vnd.databricks.v1+cell": {
     "cellMetadata": {
      "byteLimit": 2048000,
      "rowLimit": 10000
     },
     "inputWidgets": {},
     "nuid": "d5db2f00-6c7f-4018-bcbf-ed159ec9f381",
     "showTitle": false,
     "tableResultSettingsMap": {},
     "title": ""
    }
   },
   "outputs": [],
   "source": [
    "#display(dbutils.fs.ls(\"abfss://databricks-hello-world@adlsg2datalake.dfs.core.windows.net\"))\n",
    "display(dbutils.fs.ls(\"abfss://databricks-hello-world@adlsg2datalake.dfs.core.windows.net/source_json_sample_data/\"))\n",
    "#display(dbutils.fs.ls(\"abfss://databricks-hello-world@adlsg2datalake.dfs.core.windows.net/source_json_cricket_files/\"))\n"
   ]
  },
  {
   "cell_type": "code",
   "execution_count": 0,
   "metadata": {
    "application/vnd.databricks.v1+cell": {
     "cellMetadata": {
      "byteLimit": 2048000,
      "rowLimit": 10000
     },
     "inputWidgets": {},
     "nuid": "2fc8d76a-e681-444b-92f8-aa309e47d56f",
     "showTitle": false,
     "tableResultSettingsMap": {},
     "title": ""
    }
   },
   "outputs": [],
   "source": [
    "df = spark.read.option(\"multiline\", \"true\").format(\"json\").load(\"abfss://databricks-hello-world@adlsg2datalake.dfs.core.windows.net/source_json_cricket_files/\")\n"
   ]
  },
  {
   "cell_type": "code",
   "execution_count": 0,
   "metadata": {
    "application/vnd.databricks.v1+cell": {
     "cellMetadata": {
      "byteLimit": 2048000,
      "rowLimit": 10000
     },
     "inputWidgets": {},
     "nuid": "6a3499f4-df85-4b3b-97ec-5d647af6b45b",
     "showTitle": false,
     "tableResultSettingsMap": {},
     "title": ""
    }
   },
   "outputs": [],
   "source": [
    "#df.display()\n",
    "#df.count()\n",
    "df.createOrReplaceTempView(\"RAW_JSON\")"
   ]
  },
  {
   "cell_type": "code",
   "execution_count": 0,
   "metadata": {
    "application/vnd.databricks.v1+cell": {
     "cellMetadata": {
      "byteLimit": 2048000,
      "implicitDf": true,
      "rowLimit": 10000
     },
     "inputWidgets": {},
     "nuid": "2aeb5899-066b-43c5-a6b9-0846c77315a1",
     "showTitle": false,
     "tableResultSettingsMap": {
      "0": {
       "dataGridStateBlob": "{\"version\":1,\"tableState\":{\"columnPinning\":{\"left\":[\"#row_number#\"],\"right\":[]},\"columnSizing\":{},\"columnVisibility\":{}},\"settings\":{\"columns\":{}},\"syncTimestamp\":1756106888568}",
       "filterBlob": null,
       "queryPlanFiltersBlob": null,
       "tableResultIndex": 0
      }
     },
     "title": ""
    }
   },
   "outputs": [],
   "source": [
    "%sql\n",
    "--SELECT CAST(parse_json('{\"key\": 123, \"data\": 5.1 }') AS MAP<STRING, DECIMAL(20, 1)>);  ---  {\"data\":\"5.1\",\"key\":\"123.0\"}\n",
    "\n",
    "SELECT\n",
    "  --INFO.*\n",
    "  --INFO.PLAYERS,\n",
    "  --INFO.PLAYERS.Bangladesh,\n",
    "  --CAST(parse_json(INFO.PLAYERS) AS MAP< STRUCT, STRUCT>  ) AS C1\n",
    "  --CAST(parse_json(INFO.PLAYERS) AS MAP< STRUCT<STRING:ARRAY<STRING>>, STRUCT<STRING:ARRAY<STRING>> >  ) AS C1\n",
    "  --CAST(to_json(INFO.PLAYERS) AS MAP< ARRAY<STRING>, ARRAY<STRING> >  ) AS C1,\n",
    "  --TO_JSON(INFO.PLAYERS),\n",
    "  \n",
    "  PLYR_IDX,\n",
    "  REPLACE(REPLACE(PLYR_VAL,'{',''),'}','')\n",
    "  --(REPLACE(REPLACE(PLYR_VAL,'{',''),'}',''))\n",
    "FROM\n",
    "  RAW_JSON\n",
    "LATERAL VIEW POSEXPLODE(SPLIT(TO_JSON(INFO.PLAYERS),'],\"')) AS PLYR_IDX, PLYR_VAL\n",
    ";"
   ]
  },
  {
   "cell_type": "code",
   "execution_count": 0,
   "metadata": {
    "application/vnd.databricks.v1+cell": {
     "cellMetadata": {
      "byteLimit": 2048000,
      "implicitDf": true,
      "rowLimit": 10000
     },
     "inputWidgets": {},
     "nuid": "94924cf6-6e6a-466e-a5f8-be3523992e43",
     "showTitle": false,
     "tableResultSettingsMap": {},
     "title": ""
    }
   },
   "outputs": [],
   "source": [
    "%sql\n",
    "SELECT\n",
    "  --INFO.*\n",
    "  INFO.PLAYERS\n",
    "  --CAST(INFO.PLAYERS AS STRING)\n",
    "  --SPLIT(CAST(INFO.PLAYERS AS STRING), '],\"')\n",
    "  --PLYR_IDX,\n",
    "  --PLYR_VAL.*\n",
    "FROM\n",
    "  RAW_JSON"
   ]
  },
  {
   "cell_type": "code",
   "execution_count": 0,
   "metadata": {
    "application/vnd.databricks.v1+cell": {
     "cellMetadata": {
      "byteLimit": 2048000,
      "implicitDf": true,
      "rowLimit": 10000
     },
     "inputWidgets": {},
     "nuid": "32221da4-e8df-4a38-80fb-6a45d252dfdc",
     "showTitle": false,
     "tableResultSettingsMap": {},
     "title": ""
    }
   },
   "outputs": [],
   "source": [
    "%sql\n",
    "--SELECT CAST(parse_json('{\"key\": 123, \"data\": 5.1 }') AS MAP<STRING, DECIMAL(20, 1)>);  ---  {\"data\":\"5.1\",\"key\":\"123.0\"}\n",
    "-- > SELECT CAST(map(struct('Hello', 'World'), 'Greeting') AS MAP<STRUCT<w1:string, w2:string>, string>);      --{{Hello, World}->Greeting}\n",
    "SELECT\n",
    "  --INFO.*\n",
    "  --INFO.PLAYERS,\n",
    "  --INFO.PLAYERS.Bangladesh,\n",
    "  --CAST(parse_json(INFO.PLAYERS) AS MAP< STRUCT, STRUCT>  ) AS C1\n",
    "  --CAST(parse_json(INFO.PLAYERS) AS MAP< STRUCT<STRING:ARRAY<STRING>>, STRUCT<STRING:ARRAY<STRING>> >  ) AS C1\n",
    "  --to_json(INFO.PLAYERS),\n",
    "  --typeof(to_json(INFO.PLAYERS))\n",
    "  --SPLIT(to_json(INFO.PLAYERS),'],\"')\n",
    "  \n",
    "  TEAM_IDX,\n",
    "  --PLYR_VAL,\n",
    "  SPLIT(TEAM_VAL,':')[0] AS TEAM_NAME,\n",
    "  --SPLIT(TEAM_VAL,':')[1],\n",
    "  PLYR_IDX,\n",
    "  PLYR_VAL AS PLAYER_NAME\n",
    "FROM\n",
    "  RAW_JSON\n",
    "LATERAL VIEW POSEXPLODE(SPLIT(TO_JSON(INFO.PLAYERS),'],\"')) AS TEAM_IDX, TEAM_VAL\n",
    "LATERAL VIEW POSEXPLODE(SPLIT(SPLIT(TEAM_VAL,':')[1],',')) AS PLYR_IDX, PLYR_VAL\n",
    ";"
   ]
  },
  {
   "cell_type": "code",
   "execution_count": 0,
   "metadata": {
    "application/vnd.databricks.v1+cell": {
     "cellMetadata": {
      "byteLimit": 2048000,
      "implicitDf": true,
      "rowLimit": 10000
     },
     "inputWidgets": {},
     "nuid": "1c67071f-6b94-4291-8bbd-5b1ef9706ed3",
     "showTitle": false,
     "tableResultSettingsMap": {},
     "title": ""
    }
   },
   "outputs": [],
   "source": [
    "%sql\n",
    "--Method 4:\n",
    "--Creating External Table in ADLSg2 in Delta format (after creating credentials and external location)\n",
    "\n",
    "\n",
    "--SELECT CAST(parse_json('{\"key\": 123, \"data\": 5.1 }') AS MAP<STRING, DECIMAL(20, 1)>);  ---  {\"data\":\"5.1\",\"key\":\"123.0\"}\n",
    "-- > SELECT CAST(map(struct('Hello', 'World'), 'Greeting') AS MAP<STRUCT<w1:string, w2:string>, string>);      --{{Hello, World}->Greeting}\n",
    "\n",
    "CREATE TABLE CRICKET_DB.CRICKET_PLAYERS_MASTER_EXTERNAL\n",
    "LOCATION 'abfss://databricks-hello-world@adlsg2datalake.dfs.core.windows.net/target_conformed_delta_lakehouse/cricket_db_external_tables/player_master_external'\n",
    "AS\n",
    "SELECT\n",
    "  --INFO.*\n",
    "  --INFO.PLAYERS,\n",
    "  TEAM_IDX,\n",
    "  --PLYR_VAL,\n",
    "  SPLIT(TEAM_VAL,':')[0] AS TEAM_NAME,\n",
    "  --SPLIT(TEAM_VAL,':')[1],\n",
    "  PLYR_IDX,\n",
    "  PLYR_VAL AS PLAYER_NAME\n",
    "FROM\n",
    "  RAW_JSON\n",
    "LATERAL VIEW POSEXPLODE(SPLIT(TO_JSON(INFO.PLAYERS),'],\"')) AS TEAM_IDX, TEAM_VAL\n",
    "LATERAL VIEW POSEXPLODE(SPLIT(SPLIT(TEAM_VAL,':')[1],',')) AS PLYR_IDX, PLYR_VAL\n",
    ";"
   ]
  }
 ],
 "metadata": {
  "application/vnd.databricks.v1+notebook": {
   "computePreferences": null,
   "dashboards": [],
   "environmentMetadata": {
    "base_environment": "",
    "environment_version": "3"
   },
   "inputWidgetPreferences": null,
   "language": "python",
   "notebookMetadata": {
    "mostRecentlyExecutedCommandWithImplicitDF": {
     "commandId": 5199998555307181,
     "dataframes": [
      "_sqldf"
     ]
    },
    "pythonIndentUnit": 4
   },
   "notebookName": "Players_Master_table",
   "widgets": {}
  },
  "language_info": {
   "name": "python"
  }
 },
 "nbformat": 4,
 "nbformat_minor": 0
}
