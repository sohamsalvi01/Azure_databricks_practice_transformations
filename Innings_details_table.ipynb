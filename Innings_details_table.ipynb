{
 "cells": [
  {
   "cell_type": "code",
   "execution_count": 0,
   "metadata": {
    "application/vnd.databricks.v1+cell": {
     "cellMetadata": {
      "byteLimit": 2048000,
      "rowLimit": 10000
     },
     "inputWidgets": {},
     "nuid": "b24022af-0117-4bca-b1b8-bcbd60ed1ac4",
     "showTitle": false,
     "tableResultSettingsMap": {},
     "title": ""
    }
   },
   "outputs": [],
   "source": [
    "#connecting via Service Principle (using secret scope)\n",
    "spark.conf.set(\"fs.azure.account.auth.type.adlsg2datalake.dfs.core.windows.net\", \"OAuth\")\n",
    "spark.conf.set(\"fs.azure.account.oauth.provider.type.adlsg2datalake.dfs.core.windows.net\", \"org.apache.hadoop.fs.azurebfs.oauth2.ClientCredsTokenProvider\")\n",
    "spark.conf.set(\"fs.azure.account.oauth2.client.id.adlsg2datalake.dfs.core.windows.net\", \"37a372de-1804-4a80-b98f-54ba7ef17ef3\")\n",
    "spark.conf.set(\"fs.azure.account.oauth2.client.secret.adlsg2datalake.dfs.core.windows.net\", dbutils.secrets.get(scope=\"databricks_secret_scope_soham\", key=\"secret-adlsg2-service-principle-value\"))\n",
    "spark.conf.set(\"fs.azure.account.oauth2.client.endpoint.adlsg2datalake.dfs.core.windows.net\", \"https://login.microsoftonline.com/9adebd2f-da4d-4f91-9e68-91d049a77ef2/oauth2/token\")"
   ]
  },
  {
   "cell_type": "code",
   "execution_count": 0,
   "metadata": {
    "application/vnd.databricks.v1+cell": {
     "cellMetadata": {
      "byteLimit": 2048000,
      "rowLimit": 10000
     },
     "inputWidgets": {},
     "nuid": "00ecd682-8469-42c1-87b5-8b8a78259d8c",
     "showTitle": false,
     "tableResultSettingsMap": {
      "0": {
       "dataGridStateBlob": "{\"version\":1,\"tableState\":{\"columnPinning\":{\"left\":[\"#row_number#\"],\"right\":[]},\"columnSizing\":{\"path\":613},\"columnVisibility\":{}},\"settings\":{\"columns\":{}},\"syncTimestamp\":1756010656280}",
       "filterBlob": null,
       "queryPlanFiltersBlob": null,
       "tableResultIndex": 0
      }
     },
     "title": ""
    }
   },
   "outputs": [],
   "source": [
    "#display(dbutils.fs.ls(\"abfss://databricks-hello-world@adlsg2datalake.dfs.core.windows.net\"))\n",
    "display(dbutils.fs.ls(\"abfss://databricks-hello-world@adlsg2datalake.dfs.core.windows.net/source_json_sample_data/\"))\n",
    "#display(dbutils.fs.ls(\"abfss://databricks-hello-world@adlsg2datalake.dfs.core.windows.net/source_json_cricket_files/\"))\n"
   ]
  },
  {
   "cell_type": "code",
   "execution_count": 0,
   "metadata": {
    "application/vnd.databricks.v1+cell": {
     "cellMetadata": {
      "byteLimit": 2048000,
      "rowLimit": 10000
     },
     "inputWidgets": {},
     "nuid": "16286343-c6f5-4f88-bc97-2f4968672e35",
     "showTitle": false,
     "tableResultSettingsMap": {},
     "title": ""
    }
   },
   "outputs": [],
   "source": [
    "df = spark.read.option(\"multiline\", \"true\").format(\"json\").load(\"abfss://databricks-hello-world@adlsg2datalake.dfs.core.windows.net/source_json_cricket_files/\")\n",
    " "
   ]
  },
  {
   "cell_type": "code",
   "execution_count": 0,
   "metadata": {
    "application/vnd.databricks.v1+cell": {
     "cellMetadata": {
      "byteLimit": 2048000,
      "rowLimit": 10000
     },
     "inputWidgets": {},
     "nuid": "b001d442-8d3c-4cb3-b1b0-b9b4a8404edd",
     "showTitle": false,
     "tableResultSettingsMap": {},
     "title": ""
    }
   },
   "outputs": [],
   "source": [
    "#df.display()\n",
    "#df.count()\n",
    "df.createOrReplaceTempView(\"RAW_JSON\")"
   ]
  },
  {
   "cell_type": "code",
   "execution_count": 0,
   "metadata": {
    "application/vnd.databricks.v1+cell": {
     "cellMetadata": {
      "byteLimit": 2048000,
      "implicitDf": true,
      "rowLimit": 10000
     },
     "inputWidgets": {},
     "nuid": "58342995-753c-4bb1-a23d-7c1cbd791ef2",
     "showTitle": false,
     "tableResultSettingsMap": {
      "0": {
       "dataGridStateBlob": "{\"version\":1,\"tableState\":{\"columnPinning\":{\"left\":[\"#row_number#\"],\"right\":[]},\"columnSizing\":{},\"columnVisibility\":{}},\"settings\":{\"columns\":{}},\"syncTimestamp\":1756041384721}",
       "filterBlob": null,
       "queryPlanFiltersBlob": null,
       "tableResultIndex": 0
      }
     },
     "title": ""
    }
   },
   "outputs": [],
   "source": [
    "%sql\n",
    "SELECT\n",
    "  INN_IDX AS INN_NO,\n",
    "  --INN_VAL,\n",
    "  INN_VAL.TEAM,\n",
    "  --INN_VAL.POWERPLAYS,\n",
    "  OVER_IDX,\n",
    "  --OVER_VAL,\n",
    "  --OVER_VAL.*\n",
    "  OVER_VAL.OVER AS OVER_NO,\n",
    "  (DEL_IDX + 1) AS DELIVERY_NO, \n",
    "  DEL_VAL.BATTER,\n",
    "  DEL_VAL.BOWLER,\n",
    "  DEL_VAL.EXTRAS,\n",
    "  DEL_VAL.NON_STRIKER,\n",
    "  --DEL_VAL.RUNS,\n",
    "  DEL_VAL.RUNS.BATTER AS RUN_BATTED,\n",
    "  DEL_VAL.RUNS.EXTRAS AS RUN_EXTRAS,\n",
    "  DEL_VAL.RUNS.TOTAL AS RUN_TOTAL,\n",
    "  DEL_VAL.WICKETS[0].PLAYER_OUT,\n",
    "  DEL_VAL.WICKETS[0].KIND,\n",
    "  --DEL_VAL.WICKETS[0].FIELDERS,\n",
    "  DEL_VAL.WICKETS[0].FIELDERS[0].NAME AS FIELDER_1,\n",
    "  DEL_VAL.WICKETS[0].FIELDERS[0].SUBSTITUTE AS SUBSTITUTE,\n",
    "  DEL_VAL.WICKETS[0].FIELDERS[1].NAME AS FIELDER_2\n",
    "  --DEL_VAL.WICKETS\n",
    "  --DEL_VAL.*\n",
    "FROM\n",
    "  RAW_JSON\n",
    "LATERAL VIEW POSEXPLODE(INNINGS) AS INN_IDX, INN_VAL\n",
    "LATERAL VIEW POSEXPLODE(INN_VAL.OVERS) AS OVER_IDX, OVER_VAL \n",
    "LATERAL VIEW POSEXPLODE(OVER_VAL.DELIVERIES) AS DEL_IDX, DEL_VAL\n",
    ";"
   ]
  }
 ],
 "metadata": {
  "application/vnd.databricks.v1+notebook": {
   "computePreferences": null,
   "dashboards": [],
   "environmentMetadata": {
    "base_environment": "",
    "environment_version": "3"
   },
   "inputWidgetPreferences": null,
   "language": "python",
   "notebookMetadata": {
    "mostRecentlyExecutedCommandWithImplicitDF": {
     "commandId": 7099380060888017,
     "dataframes": [
      "_sqldf"
     ]
    },
    "pythonIndentUnit": 4
   },
   "notebookName": "Innings_details_table",
   "widgets": {}
  },
  "language_info": {
   "name": "python"
  }
 },
 "nbformat": 4,
 "nbformat_minor": 0
}
