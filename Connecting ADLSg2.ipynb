{
 "cells": [
  {
   "cell_type": "code",
   "execution_count": 0,
   "metadata": {
    "application/vnd.databricks.v1+cell": {
     "cellMetadata": {
      "byteLimit": 2048000,
      "rowLimit": 10000
     },
     "inputWidgets": {},
     "nuid": "986fbfcc-bea0-410d-b46d-be5d347817f5",
     "showTitle": false,
     "tableResultSettingsMap": {},
     "title": ""
    }
   },
   "outputs": [],
   "source": [
    "#connecting via Access Key\n",
    "spark.conf.set(\n",
    "    \"fs.azure.account.key.adlsg2datalake.dfs.core.windows.net\",)"
   ]
  },
  {
   "cell_type": "code",
   "execution_count": 0,
   "metadata": {
    "application/vnd.databricks.v1+cell": {
     "cellMetadata": {
      "byteLimit": 2048000,
      "rowLimit": 10000
     },
     "inputWidgets": {},
     "nuid": "4f905e73-aa3a-4a39-94d9-f31ea9817892",
     "showTitle": false,
     "tableResultSettingsMap": {},
     "title": ""
    }
   },
   "outputs": [],
   "source": [
    "#connecting via Service Principle\n",
    "service_credential = \"\"\n",
    "\n",
    "spark.conf.set(\"fs.azure.account.auth.type.adlsg2datalake.dfs.core.windows.net\", \"OAuth\")\n",
    "spark.conf.set(\"fs.azure.account.oauth.provider.type.adlsg2datalake.dfs.core.windows.net\", \"org.apache.hadoop.fs.azurebfs.oauth2.ClientCredsTokenProvider\")\n",
    "spark.conf.set(\"fs.azure.account.oauth2.client.id.adlsg2datalake.dfs.core.windows.net\", \"37a372de-1804-4a80-b98f-54ba7ef17ef3\")\n",
    "spark.conf.set(\"fs.azure.account.oauth2.client.secret.adlsg2datalake.dfs.core.windows.net\", service_credential)\n",
    "spark.conf.set(\"fs.azure.account.oauth2.client.endpoint.adlsg2datalake.dfs.core.windows.net\", \"https://login.microsoftonline.com/9adebd2f-da4d-4f91-9e68-91d049a77ef2/oauth2/token\")"
   ]
  },
  {
   "cell_type": "code",
   "execution_count": 0,
   "metadata": {
    "application/vnd.databricks.v1+cell": {
     "cellMetadata": {
      "byteLimit": 2048000,
      "rowLimit": 10000
     },
     "inputWidgets": {},
     "nuid": "9404318c-7fa3-4407-95eb-4b0ddd6fc0c9",
     "showTitle": false,
     "tableResultSettingsMap": {},
     "title": ""
    }
   },
   "outputs": [],
   "source": [
    "#connecting via SAS Token\n",
    "spark.conf.set(\"fs.azure.account.auth.type.adlsg2datalake.dfs.core.windows.net\", \"SAS\")\n",
    "spark.conf.set(\"fs.azure.sas.token.provider.type.adlsg2datalake.dfs.core.windows.net\", \"org.apache.hadoop.fs.azurebfs.sas.FixedSASTokenProvider\")\n",
    "spark.conf.set(\"fs.azure.sas.fixed.token.adlsg2datalake.dfs.core.windows.net\", \"sv=2024-11-04&ss=bfqt&srt=sco&sp=rwdlacupyx&se=2026-08-15T12:22:13Z&st=2025-08-15T04:07:13Z&spr=https&sig=phG5mVPSM1Yw0BkRVpHWfGPGDKWu77iLHjV06G%2BUxBY%3D\")"
   ]
  },
  {
   "cell_type": "code",
   "execution_count": 0,
   "metadata": {
    "application/vnd.databricks.v1+cell": {
     "cellMetadata": {
      "byteLimit": 2048000,
      "rowLimit": 10000
     },
     "inputWidgets": {},
     "nuid": "56984667-20ec-4624-9015-2b2d78efd2b7",
     "showTitle": false,
     "tableResultSettingsMap": {
      "0": {
       "dataGridStateBlob": "{\"version\":1,\"tableState\":{\"columnPinning\":{\"left\":[\"#row_number#\"],\"right\":[]},\"columnSizing\":{\"key\":321},\"columnVisibility\":{}},\"settings\":{\"columns\":{}},\"syncTimestamp\":1756010417937}",
       "filterBlob": null,
       "queryPlanFiltersBlob": null,
       "tableResultIndex": 0
      }
     },
     "title": ""
    }
   },
   "outputs": [],
   "source": [
    "#dbutils.help();\n",
    "#dbutils.fs.help();\n",
    "#dbutils.secrets.help();\n",
    "#display(dbutils.secrets.listScopes())\n",
    "display(dbutils.secrets.list(\"databricks_secret_scope_soham\"))\n"
   ]
  },
  {
   "cell_type": "code",
   "execution_count": 0,
   "metadata": {
    "application/vnd.databricks.v1+cell": {
     "cellMetadata": {
      "byteLimit": 2048000,
      "rowLimit": 10000
     },
     "inputWidgets": {},
     "nuid": "c23e3b07-edf7-4c0f-b34f-07ac6beaa99a",
     "showTitle": false,
     "tableResultSettingsMap": {},
     "title": ""
    }
   },
   "outputs": [],
   "source": [
    "#connecting via Access Key (using secret scope)\n",
    "spark.conf.set(\n",
    "    \"fs.azure.account.key.adlsg2datalake.dfs.core.windows.net\",\n",
    "    dbutils.secrets.get(scope=\"databricks_secret_scope_soham\", key=\"secret-adlsg2datalake-AccessKey\"))\n"
   ]
  },
  {
   "cell_type": "code",
   "execution_count": 0,
   "metadata": {
    "application/vnd.databricks.v1+cell": {
     "cellMetadata": {},
     "inputWidgets": {},
     "nuid": "03ca58cc-32c4-4cb0-b1b3-56a44810f740",
     "showTitle": false,
     "tableResultSettingsMap": {},
     "title": ""
    }
   },
   "outputs": [],
   "source": [
    "#connecting via Service Principle (using secret scope)\n",
    "spark.conf.set(\"fs.azure.account.auth.type.adlsg2datalake.dfs.core.windows.net\", \"OAuth\")\n",
    "spark.conf.set(\"fs.azure.account.oauth.provider.type.adlsg2datalake.dfs.core.windows.net\", \"org.apache.hadoop.fs.azurebfs.oauth2.ClientCredsTokenProvider\")\n",
    "spark.conf.set(\"fs.azure.account.oauth2.client.id.adlsg2datalake.dfs.core.windows.net\", \"37a372de-1804-4a80-b98f-54ba7ef17ef3\")\n",
    "spark.conf.set(\"fs.azure.account.oauth2.client.secret.adlsg2datalake.dfs.core.windows.net\", dbutils.secrets.get(scope=\"databricks_secret_scope_soham\", key=\"secret-adlsg2-service-principle-value\"))\n",
    "spark.conf.set(\"fs.azure.account.oauth2.client.endpoint.adlsg2datalake.dfs.core.windows.net\", \"https://login.microsoftonline.com/9adebd2f-da4d-4f91-9e68-91d049a77ef2/oauth2/token\")"
   ]
  },
  {
   "cell_type": "code",
   "execution_count": 0,
   "metadata": {
    "application/vnd.databricks.v1+cell": {
     "cellMetadata": {},
     "inputWidgets": {},
     "nuid": "72907c92-4cbd-4cda-b66d-ba5140b32869",
     "showTitle": false,
     "tableResultSettingsMap": {},
     "title": ""
    }
   },
   "outputs": [],
   "source": [
    "#display list of containers\n",
    "display(dbutils.fs.ls(\"abfss://databricks-hello-world@adlsg2datalake.dfs.core.windows.net\"))"
   ]
  }
 ],
 "metadata": {
  "application/vnd.databricks.v1+notebook": {
   "computePreferences": null,
   "dashboards": [],
   "environmentMetadata": {
    "base_environment": "",
    "environment_version": "3"
   },
   "inputWidgetPreferences": null,
   "language": "python",
   "notebookMetadata": {
    "pythonIndentUnit": 4
   },
   "notebookName": "Connecting ADLSg2",
   "widgets": {}
  },
  "language_info": {
   "name": "python"
  }
 },
 "nbformat": 4,
 "nbformat_minor": 0
}
