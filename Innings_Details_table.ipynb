{
 "cells": [
  {
   "cell_type": "code",
   "execution_count": 0,
   "metadata": {
    "application/vnd.databricks.v1+cell": {
     "cellMetadata": {
      "byteLimit": 2048000,
      "rowLimit": 10000
     },
     "inputWidgets": {},
     "nuid": "b24022af-0117-4bca-b1b8-bcbd60ed1ac4",
     "showTitle": false,
     "tableResultSettingsMap": {},
     "title": ""
    }
   },
   "outputs": [],
   "source": [
    "#connecting via Service Principle (using secret scope)\n",
    "spark.conf.set(\"fs.azure.account.auth.type.adlsg2datalake.dfs.core.windows.net\", \"OAuth\")\n",
    "spark.conf.set(\"fs.azure.account.oauth.provider.type.adlsg2datalake.dfs.core.windows.net\", \"org.apache.hadoop.fs.azurebfs.oauth2.ClientCredsTokenProvider\")\n",
    "spark.conf.set(\"fs.azure.account.oauth2.client.id.adlsg2datalake.dfs.core.windows.net\", \"37a372de-1804-4a80-b98f-54ba7ef17ef3\")\n",
    "spark.conf.set(\"fs.azure.account.oauth2.client.secret.adlsg2datalake.dfs.core.windows.net\", dbutils.secrets.get(scope=\"databricks_secret_scope_soham\", key=\"secret-adlsg2-service-principle-value\"))\n",
    "spark.conf.set(\"fs.azure.account.oauth2.client.endpoint.adlsg2datalake.dfs.core.windows.net\", \"https://login.microsoftonline.com/9adebd2f-da4d-4f91-9e68-91d049a77ef2/oauth2/token\")"
   ]
  },
  {
   "cell_type": "code",
   "execution_count": 0,
   "metadata": {
    "application/vnd.databricks.v1+cell": {
     "cellMetadata": {
      "byteLimit": 2048000,
      "rowLimit": 10000
     },
     "inputWidgets": {},
     "nuid": "00ecd682-8469-42c1-87b5-8b8a78259d8c",
     "showTitle": false,
     "tableResultSettingsMap": {
      "0": {
       "dataGridStateBlob": "{\"version\":1,\"tableState\":{\"columnPinning\":{\"left\":[\"#row_number#\"],\"right\":[]},\"columnSizing\":{\"path\":613},\"columnVisibility\":{}},\"settings\":{\"columns\":{}},\"syncTimestamp\":1756010656280}",
       "filterBlob": null,
       "queryPlanFiltersBlob": null,
       "tableResultIndex": 0
      }
     },
     "title": ""
    }
   },
   "outputs": [],
   "source": [
    "#display(dbutils.fs.ls(\"abfss://databricks-hello-world@adlsg2datalake.dfs.core.windows.net\"))\n",
    "display(dbutils.fs.ls(\"abfss://databricks-hello-world@adlsg2datalake.dfs.core.windows.net/source_json_sample_data/\"))\n",
    "#display(dbutils.fs.ls(\"abfss://databricks-hello-world@adlsg2datalake.dfs.core.windows.net/source_json_cricket_files/\"))\n"
   ]
  },
  {
   "cell_type": "code",
   "execution_count": 0,
   "metadata": {
    "application/vnd.databricks.v1+cell": {
     "cellMetadata": {
      "byteLimit": 2048000,
      "rowLimit": 10000
     },
     "inputWidgets": {},
     "nuid": "16286343-c6f5-4f88-bc97-2f4968672e35",
     "showTitle": false,
     "tableResultSettingsMap": {},
     "title": ""
    }
   },
   "outputs": [],
   "source": [
    "df = spark.read.option(\"multiline\", \"true\").format(\"json\").load(\"abfss://databricks-hello-world@adlsg2datalake.dfs.core.windows.net/source_json_cricket_files/\")\n",
    " "
   ]
  },
  {
   "cell_type": "code",
   "execution_count": 0,
   "metadata": {
    "application/vnd.databricks.v1+cell": {
     "cellMetadata": {
      "byteLimit": 2048000,
      "rowLimit": 10000
     },
     "inputWidgets": {},
     "nuid": "b001d442-8d3c-4cb3-b1b0-b9b4a8404edd",
     "showTitle": false,
     "tableResultSettingsMap": {},
     "title": ""
    }
   },
   "outputs": [],
   "source": [
    "#df.display()\n",
    "#df.count()\n",
    "df.createOrReplaceTempView(\"RAW_JSON\")"
   ]
  },
  {
   "cell_type": "code",
   "execution_count": 0,
   "metadata": {
    "application/vnd.databricks.v1+cell": {
     "cellMetadata": {
      "byteLimit": 2048000,
      "implicitDf": true,
      "rowLimit": 10000
     },
     "inputWidgets": {},
     "nuid": "58342995-753c-4bb1-a23d-7c1cbd791ef2",
     "showTitle": false,
     "tableResultSettingsMap": {
      "0": {
       "dataGridStateBlob": "{\"version\":1,\"tableState\":{\"columnPinning\":{\"left\":[\"#row_number#\"],\"right\":[]},\"columnSizing\":{},\"columnVisibility\":{}},\"settings\":{\"columns\":{}},\"syncTimestamp\":1756041384721}",
       "filterBlob": null,
       "queryPlanFiltersBlob": null,
       "tableResultIndex": 0
      }
     },
     "title": ""
    }
   },
   "outputs": [],
   "source": [
    "%sql\n",
    "SELECT\n",
    "  INN_IDX AS INN_NO,\n",
    "  --INN_VAL,\n",
    "  INN_VAL.TEAM,\n",
    "  --INN_VAL.POWERPLAYS,\n",
    "  OVER_IDX,\n",
    "  --OVER_VAL,\n",
    "  --OVER_VAL.*\n",
    "  OVER_VAL.OVER AS OVER_NO,\n",
    "  (DEL_IDX + 1) AS DELIVERY_NO, \n",
    "  DEL_VAL.BATTER,\n",
    "  DEL_VAL.BOWLER,\n",
    "  DEL_VAL.EXTRAS,\n",
    "  DEL_VAL.NON_STRIKER,\n",
    "  --DEL_VAL.RUNS,\n",
    "  DEL_VAL.RUNS.BATTER AS RUN_BATTED,\n",
    "  DEL_VAL.RUNS.EXTRAS AS RUN_EXTRAS,\n",
    "  DEL_VAL.RUNS.TOTAL AS RUN_TOTAL,\n",
    "  DEL_VAL.WICKETS[0].PLAYER_OUT,\n",
    "  DEL_VAL.WICKETS[0].KIND,\n",
    "  --DEL_VAL.WICKETS[0].FIELDERS,\n",
    "  DEL_VAL.WICKETS[0].FIELDERS[0].NAME AS FIELDER_1,\n",
    "  DEL_VAL.WICKETS[0].FIELDERS[0].SUBSTITUTE AS SUBSTITUTE,\n",
    "  DEL_VAL.WICKETS[0].FIELDERS[1].NAME AS FIELDER_2\n",
    "  --DEL_VAL.WICKETS\n",
    "  --DEL_VAL.*\n",
    "FROM\n",
    "  RAW_JSON\n",
    "LATERAL VIEW POSEXPLODE(INNINGS) AS INN_IDX, INN_VAL\n",
    "LATERAL VIEW POSEXPLODE(INN_VAL.OVERS) AS OVER_IDX, OVER_VAL \n",
    "LATERAL VIEW POSEXPLODE(OVER_VAL.DELIVERIES) AS DEL_IDX, DEL_VAL\n",
    ";"
   ]
  },
  {
   "cell_type": "code",
   "execution_count": 0,
   "metadata": {
    "application/vnd.databricks.v1+cell": {
     "cellMetadata": {
      "byteLimit": 2048000,
      "rowLimit": 10000
     },
     "inputWidgets": {},
     "nuid": "9c39f8b3-83d3-4221-b223-80ba6c948d39",
     "showTitle": false,
     "tableResultSettingsMap": {},
     "title": ""
    }
   },
   "outputs": [],
   "source": [
    "# Method 1:\n",
    "#Saving the files using _sqldf in ADLSg2 in Delta format\n",
    "\n",
    "_sqldf \\\n",
    "    .write \\\n",
    "    .format(\"delta\") \\\n",
    "    .mode(\"overwrite\") \\\n",
    "    .save(\"abfss://databricks-hello-world@adlsg2datalake.dfs.core.windows.net/target_conformed_delta_lakehouse/_sqldf__write/Innings_Details\") ;"
   ]
  },
  {
   "cell_type": "code",
   "execution_count": 0,
   "metadata": {
    "application/vnd.databricks.v1+cell": {
     "cellMetadata": {
      "byteLimit": 2048000,
      "rowLimit": 10000
     },
     "inputWidgets": {},
     "nuid": "d8176b02-5702-4561-ba0d-4b5613d1af63",
     "showTitle": false,
     "tableResultSettingsMap": {},
     "title": ""
    }
   },
   "outputs": [],
   "source": [
    "#spark.read.format(\"delta\").load(\"abfss://databricks-hello-world@adlsg2datalake.dfs.core.windows.net/target_conformed_delta_lakehouse/_sqldf__write/Innings_Details\").display();\n",
    "\n",
    "df = spark.read.format(\"delta\").load(\"abfss://databricks-hello-world@adlsg2datalake.dfs.core.windows.net/target_conformed_delta_lakehouse/_sqldf__write/Innings_Details\");"
   ]
  },
  {
   "cell_type": "code",
   "execution_count": 0,
   "metadata": {
    "application/vnd.databricks.v1+cell": {
     "cellMetadata": {
      "byteLimit": 2048000,
      "rowLimit": 10000
     },
     "inputWidgets": {},
     "nuid": "26d0a601-cf81-471a-b2ca-10b16a67c0c9",
     "showTitle": false,
     "tableResultSettingsMap": {},
     "title": ""
    }
   },
   "outputs": [],
   "source": [
    "df.count();\n"
   ]
  },
  {
   "cell_type": "code",
   "execution_count": 0,
   "metadata": {
    "application/vnd.databricks.v1+cell": {
     "cellMetadata": {
      "byteLimit": 2048000,
      "implicitDf": true,
      "rowLimit": 10000
     },
     "inputWidgets": {},
     "nuid": "b97b1880-59f7-47e1-8445-4dfef9d08770",
     "showTitle": false,
     "tableResultSettingsMap": {},
     "title": ""
    }
   },
   "outputs": [],
   "source": [
    "%sql\n",
    "--Method 2:\n",
    "--Creating Managed Table in ADLSg2 in Delta format\n",
    "CREATE DATABASE IF NOT EXISTS CRICKET_DB;\n",
    "USE CRICKET_DB;\n"
   ]
  },
  {
   "cell_type": "code",
   "execution_count": 0,
   "metadata": {
    "application/vnd.databricks.v1+cell": {
     "cellMetadata": {
      "byteLimit": 2048000,
      "implicitDf": true,
      "rowLimit": 10000
     },
     "inputWidgets": {},
     "nuid": "e0abc601-870f-4f40-8a7c-381476ca5e8e",
     "showTitle": false,
     "tableResultSettingsMap": {},
     "title": ""
    }
   },
   "outputs": [],
   "source": [
    "%sql\n",
    "CREATE TABLE IF NOT EXISTS CRICKET_DB.CRICKET_DELIVERIES\n",
    "AS\n",
    "SELECT\n",
    "  INN_IDX AS INN_NO,\n",
    "  --INN_VAL,\n",
    "  INN_VAL.TEAM,\n",
    "  --INN_VAL.POWERPLAYS,\n",
    "  OVER_IDX,\n",
    "  --OVER_VAL,\n",
    "  --OVER_VAL.*\n",
    "  OVER_VAL.OVER AS OVER_NO,\n",
    "  (DEL_IDX + 1) AS DELIVERY_NO, \n",
    "  DEL_VAL.BATTER,\n",
    "  DEL_VAL.BOWLER,\n",
    "  DEL_VAL.EXTRAS,\n",
    "  DEL_VAL.NON_STRIKER,\n",
    "  --DEL_VAL.RUNS,\n",
    "  DEL_VAL.RUNS.BATTER AS RUN_BATTED,\n",
    "  DEL_VAL.RUNS.EXTRAS AS RUN_EXTRAS,\n",
    "  DEL_VAL.RUNS.TOTAL AS RUN_TOTAL,\n",
    "  DEL_VAL.WICKETS[0].PLAYER_OUT,\n",
    "  DEL_VAL.WICKETS[0].KIND,\n",
    "  --DEL_VAL.WICKETS[0].FIELDERS,\n",
    "  DEL_VAL.WICKETS[0].FIELDERS[0].NAME AS FIELDER_1,\n",
    "  DEL_VAL.WICKETS[0].FIELDERS[0].SUBSTITUTE AS SUBSTITUTE,\n",
    "  DEL_VAL.WICKETS[0].FIELDERS[1].NAME AS FIELDER_2\n",
    "  --DEL_VAL.WICKETS\n",
    "  --DEL_VAL.*\n",
    "FROM\n",
    "  RAW_JSON\n",
    "LATERAL VIEW POSEXPLODE(INNINGS) AS INN_IDX, INN_VAL\n",
    "LATERAL VIEW POSEXPLODE(INN_VAL.OVERS) AS OVER_IDX, OVER_VAL \n",
    "LATERAL VIEW POSEXPLODE(OVER_VAL.DELIVERIES) AS DEL_IDX, DEL_VAL\n",
    ";"
   ]
  },
  {
   "cell_type": "code",
   "execution_count": 0,
   "metadata": {
    "application/vnd.databricks.v1+cell": {
     "cellMetadata": {
      "byteLimit": 2048000,
      "implicitDf": true,
      "rowLimit": 10000
     },
     "inputWidgets": {},
     "nuid": "18b26bcd-a872-455b-89c9-c494a3b00368",
     "showTitle": false,
     "tableResultSettingsMap": {},
     "title": ""
    }
   },
   "outputs": [],
   "source": [
    "%sql\n",
    "--SELECT * FROM CRICKET_DB.CRICKET_DELIVERIES LIMIT 100;\n",
    "--SELECT * FROM CRICKET_DB.CRICKET_DELIVERIES WHERE FIELDER_1 IS NOT NULL;\n",
    "SELECT COUNT(1) FROM CRICKET_DB.CRICKET_DELIVERIES ;\n"
   ]
  },
  {
   "cell_type": "code",
   "execution_count": 0,
   "metadata": {
    "application/vnd.databricks.v1+cell": {
     "cellMetadata": {
      "byteLimit": 2048000,
      "implicitDf": true,
      "rowLimit": 10000
     },
     "inputWidgets": {},
     "nuid": "b1fbba41-6463-492b-a32a-27224be6fb9f",
     "showTitle": false,
     "tableResultSettingsMap": {},
     "title": ""
    }
   },
   "outputs": [],
   "source": [
    "%sql\n",
    "--Method 2:\n",
    "--Creating Managed Table in ADLSg2 in Delta format\n",
    "\n",
    "--try in premium databricks. not working in trial version\n",
    "\n",
    "CREATE TABLE CRICKET_DB.CRICKET_DELIVERIES_EXTERNAL\n",
    "LOCATION 'abfss://databricks-hello-world@adlsg2datalake.dfs.core.windows.net/target_conformed_delta_lakehouse/cricket_db_external_tables/Innings_Details'\n",
    "AS\n",
    "SELECT\n",
    "  INN_IDX AS INN_NO,\n",
    "  --INN_VAL,\n",
    "  INN_VAL.TEAM,\n",
    "  --INN_VAL.POWERPLAYS,\n",
    "  OVER_IDX,\n",
    "  --OVER_VAL,\n",
    "  --OVER_VAL.*\n",
    "  OVER_VAL.OVER AS OVER_NO,\n",
    "  (DEL_IDX + 1) AS DELIVERY_NO, \n",
    "  DEL_VAL.BATTER,\n",
    "  DEL_VAL.BOWLER,\n",
    "  DEL_VAL.EXTRAS,\n",
    "  DEL_VAL.NON_STRIKER,\n",
    "  --DEL_VAL.RUNS,\n",
    "  DEL_VAL.RUNS.BATTER AS RUN_BATTED,\n",
    "  DEL_VAL.RUNS.EXTRAS AS RUN_EXTRAS,\n",
    "  DEL_VAL.RUNS.TOTAL AS RUN_TOTAL,\n",
    "  DEL_VAL.WICKETS[0].PLAYER_OUT AS PLAYER_OUT,\n",
    "  DEL_VAL.WICKETS[0].KIND AS KIND,\n",
    "  --DEL_VAL.WICKETS[0].FIELDERS,\n",
    "  DEL_VAL.WICKETS[0].FIELDERS[0].NAME AS FIELDER_1,\n",
    "  DEL_VAL.WICKETS[0].FIELDERS[0].SUBSTITUTE AS SUBSTITUTE,\n",
    "  DEL_VAL.WICKETS[0].FIELDERS[1].NAME AS FIELDER_2\n",
    "  --DEL_VAL.WICKETS\n",
    "  --DEL_VAL.*\n",
    "FROM\n",
    "  RAW_JSON\n",
    "LATERAL VIEW POSEXPLODE(INNINGS) AS INN_IDX, INN_VAL\n",
    "LATERAL VIEW POSEXPLODE(INN_VAL.OVERS) AS OVER_IDX, OVER_VAL \n",
    "LATERAL VIEW POSEXPLODE(OVER_VAL.DELIVERIES) AS DEL_IDX, DEL_VAL\n",
    ";"
   ]
  }
 ],
 "metadata": {
  "application/vnd.databricks.v1+notebook": {
   "computePreferences": null,
   "dashboards": [],
   "environmentMetadata": {
    "base_environment": "",
    "environment_version": "3"
   },
   "inputWidgetPreferences": null,
   "language": "python",
   "notebookMetadata": {
    "mostRecentlyExecutedCommandWithImplicitDF": {
     "commandId": 7140690677330998,
     "dataframes": [
      "_sqldf"
     ]
    },
    "pythonIndentUnit": 4
   },
   "notebookName": "Innings_Details_table",
   "widgets": {}
  },
  "language_info": {
   "name": "python"
  }
 },
 "nbformat": 4,
 "nbformat_minor": 0
}
