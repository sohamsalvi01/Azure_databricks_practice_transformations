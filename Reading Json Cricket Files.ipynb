{
 "cells": [
  {
   "cell_type": "code",
   "execution_count": 0,
   "metadata": {
    "application/vnd.databricks.v1+cell": {
     "cellMetadata": {
      "byteLimit": 2048000,
      "rowLimit": 10000
     },
     "inputWidgets": {},
     "nuid": "b24022af-0117-4bca-b1b8-bcbd60ed1ac4",
     "showTitle": false,
     "tableResultSettingsMap": {},
     "title": ""
    }
   },
   "outputs": [],
   "source": [
    "#connecting via Service Principle (using secret scope)\n",
    "spark.conf.set(\"fs.azure.account.auth.type.adlsg2datalake.dfs.core.windows.net\", \"OAuth\")\n",
    "spark.conf.set(\"fs.azure.account.oauth.provider.type.adlsg2datalake.dfs.core.windows.net\", \"org.apache.hadoop.fs.azurebfs.oauth2.ClientCredsTokenProvider\")\n",
    "spark.conf.set(\"fs.azure.account.oauth2.client.id.adlsg2datalake.dfs.core.windows.net\", \"37a372de-1804-4a80-b98f-54ba7ef17ef3\")\n",
    "spark.conf.set(\"fs.azure.account.oauth2.client.secret.adlsg2datalake.dfs.core.windows.net\", dbutils.secrets.get(scope=\"databricks_secret_scope_soham\", key=\"secret-adlsg2-service-principle-value\"))\n",
    "spark.conf.set(\"fs.azure.account.oauth2.client.endpoint.adlsg2datalake.dfs.core.windows.net\", \"https://login.microsoftonline.com/9adebd2f-da4d-4f91-9e68-91d049a77ef2/oauth2/token\")"
   ]
  },
  {
   "cell_type": "code",
   "execution_count": 0,
   "metadata": {
    "application/vnd.databricks.v1+cell": {
     "cellMetadata": {
      "byteLimit": 2048000,
      "rowLimit": 10000
     },
     "inputWidgets": {},
     "nuid": "00ecd682-8469-42c1-87b5-8b8a78259d8c",
     "showTitle": false,
     "tableResultSettingsMap": {
      "0": {
       "dataGridStateBlob": "{\"version\":1,\"tableState\":{\"columnPinning\":{\"left\":[\"#row_number#\"],\"right\":[]},\"columnSizing\":{\"path\":613},\"columnVisibility\":{}},\"settings\":{\"columns\":{}},\"syncTimestamp\":1756010656280}",
       "filterBlob": null,
       "queryPlanFiltersBlob": null,
       "tableResultIndex": 0
      }
     },
     "title": ""
    }
   },
   "outputs": [],
   "source": [
    "#display(dbutils.fs.ls(\"abfss://databricks-hello-world@adlsg2datalake.dfs.core.windows.net\"))\n",
    "display(dbutils.fs.ls(\"abfss://databricks-hello-world@adlsg2datalake.dfs.core.windows.net/source_json_sample_data/\"))\n",
    "#display(dbutils.fs.ls(\"abfss://databricks-hello-world@adlsg2datalake.dfs.core.windows.net/source_json_cricket_files/\"))\n"
   ]
  },
  {
   "cell_type": "code",
   "execution_count": 0,
   "metadata": {
    "application/vnd.databricks.v1+cell": {
     "cellMetadata": {
      "byteLimit": 2048000,
      "rowLimit": 10000
     },
     "inputWidgets": {},
     "nuid": "16286343-c6f5-4f88-bc97-2f4968672e35",
     "showTitle": false,
     "tableResultSettingsMap": {},
     "title": ""
    }
   },
   "outputs": [],
   "source": [
    "df = spark.read.option(\"multiline\", \"true\").format(\"json\").load(\"abfss://databricks-hello-world@adlsg2datalake.dfs.core.windows.net/source_json_cricket_files/\")\n",
    " "
   ]
  },
  {
   "cell_type": "code",
   "execution_count": 0,
   "metadata": {
    "application/vnd.databricks.v1+cell": {
     "cellMetadata": {
      "byteLimit": 2048000,
      "rowLimit": 10000
     },
     "inputWidgets": {},
     "nuid": "b001d442-8d3c-4cb3-b1b0-b9b4a8404edd",
     "showTitle": false,
     "tableResultSettingsMap": {},
     "title": ""
    }
   },
   "outputs": [],
   "source": [
    "df.display()"
   ]
  },
  {
   "cell_type": "code",
   "execution_count": 0,
   "metadata": {
    "application/vnd.databricks.v1+cell": {
     "cellMetadata": {
      "byteLimit": 2048000,
      "rowLimit": 10000
     },
     "inputWidgets": {},
     "nuid": "e7bbecb6-862b-4dc2-a220-6b6e9b0bd765",
     "showTitle": false,
     "tableResultSettingsMap": {},
     "title": ""
    }
   },
   "outputs": [],
   "source": []
  }
 ],
 "metadata": {
  "application/vnd.databricks.v1+notebook": {
   "computePreferences": null,
   "dashboards": [],
   "environmentMetadata": {
    "base_environment": "",
    "environment_version": "3"
   },
   "inputWidgetPreferences": null,
   "language": "python",
   "notebookMetadata": {
    "pythonIndentUnit": 4
   },
   "notebookName": "Reading Json Cricket Files",
   "widgets": {}
  },
  "language_info": {
   "name": "python"
  }
 },
 "nbformat": 4,
 "nbformat_minor": 0
}
